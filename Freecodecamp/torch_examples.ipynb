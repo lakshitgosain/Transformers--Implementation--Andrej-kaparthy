{
 "cells": [
  {
   "cell_type": "code",
   "execution_count": 1,
   "id": "61dc2198",
   "metadata": {},
   "outputs": [],
   "source": [
    "import torch"
   ]
  },
  {
   "cell_type": "code",
   "execution_count": 5,
   "id": "f76a35b4",
   "metadata": {},
   "outputs": [
    {
     "name": "stdout",
     "output_type": "stream",
     "text": [
      "tensor([-70,  -3, -77, -12,  78, -20])\n"
     ]
    }
   ],
   "source": [
    "randint=torch.randint(-100, 100, (6,))\n",
    "print(randint)"
   ]
  },
  {
   "cell_type": "code",
   "execution_count": 8,
   "id": "893a1c70",
   "metadata": {},
   "outputs": [
    {
     "name": "stdout",
     "output_type": "stream",
     "text": [
      "tensor([[0.1000, 1.2000],\n",
      "        [2.2000, 3.3000],\n",
      "        [4.4000, 5.5000]])\n"
     ]
    }
   ],
   "source": [
    "tensor= torch.tensor([[0.1,1.2],[2.2,3.3],[4.4,5.5]])\n",
    "print(tensor)"
   ]
  },
  {
   "cell_type": "code",
   "execution_count": 10,
   "id": "a7364834",
   "metadata": {},
   "outputs": [
    {
     "data": {
      "text/plain": [
       "tensor([[0., 0., 0.],\n",
       "        [0., 0., 0.]])"
      ]
     },
     "execution_count": 10,
     "metadata": {},
     "output_type": "execute_result"
    }
   ],
   "source": [
    "zeros=torch.zeros(2,3)\n",
    "zeros"
   ]
  },
  {
   "cell_type": "code",
   "execution_count": 12,
   "id": "1ca88c01",
   "metadata": {},
   "outputs": [
    {
     "data": {
      "text/plain": [
       "tensor([[1., 1., 1., 1.],\n",
       "        [1., 1., 1., 1.],\n",
       "        [1., 1., 1., 1.]])"
      ]
     },
     "execution_count": 12,
     "metadata": {},
     "output_type": "execute_result"
    }
   ],
   "source": [
    "ones=torch.ones(3,4)\n",
    "ones"
   ]
  },
  {
   "cell_type": "code",
   "execution_count": 15,
   "id": "8b9ae9c0",
   "metadata": {},
   "outputs": [
    {
     "data": {
      "text/plain": [
       "tensor([[1.5236e+00, 1.2345e-42, 0.0000e+00],\n",
       "        [0.0000e+00, 0.0000e+00, 0.0000e+00]])"
      ]
     },
     "execution_count": 15,
     "metadata": {},
     "output_type": "execute_result"
    }
   ],
   "source": [
    "input= torch.empty(2,3)\n",
    "input# these are either very large or small numbers"
   ]
  },
  {
   "cell_type": "code",
   "execution_count": 17,
   "id": "f724a154",
   "metadata": {},
   "outputs": [
    {
     "data": {
      "text/plain": [
       "tensor([0, 1, 2, 3, 4])"
      ]
     },
     "execution_count": 17,
     "metadata": {},
     "output_type": "execute_result"
    }
   ],
   "source": [
    "arange=torch.arange(5)\n",
    "arange"
   ]
  },
  {
   "cell_type": "code",
   "execution_count": 20,
   "id": "f28b269b",
   "metadata": {},
   "outputs": [
    {
     "data": {
      "text/plain": [
       "tensor([ 3.0000,  4.7500,  6.5000,  8.2500, 10.0000])"
      ]
     },
     "execution_count": 20,
     "metadata": {},
     "output_type": "execute_result"
    }
   ],
   "source": [
    "linspace=torch.linspace(3,10,steps=5)\n",
    "linspace# We have 5 differnt ones over 5 steps . adding the same amouunt in each iteration from 3 to 10. the increment are adjusted by pyt itself"
   ]
  },
  {
   "cell_type": "code",
   "execution_count": 24,
   "id": "e40db079",
   "metadata": {},
   "outputs": [
    {
     "data": {
      "text/plain": [
       "tensor([1.0000e-10, 1.0000e-05, 1.0000e+00, 1.0000e+05, 1.0000e+10])"
      ]
     },
     "execution_count": 24,
     "metadata": {},
     "output_type": "execute_result"
    }
   ],
   "source": [
    "logspace=torch.logspace(start=-10, end=10, steps=5)\n",
    "logspace #increments in exponents/log"
   ]
  },
  {
   "cell_type": "code",
   "execution_count": 25,
   "id": "c5e19cd0",
   "metadata": {},
   "outputs": [
    {
     "data": {
      "text/plain": [
       "tensor([[1., 0., 0., 0., 0.],\n",
       "        [0., 1., 0., 0., 0.],\n",
       "        [0., 0., 1., 0., 0.],\n",
       "        [0., 0., 0., 1., 0.],\n",
       "        [0., 0., 0., 0., 1.]])"
      ]
     },
     "execution_count": 25,
     "metadata": {},
     "output_type": "execute_result"
    }
   ],
   "source": [
    "eye=torch.eye(5)\n",
    "eye"
   ]
  },
  {
   "cell_type": "code",
   "execution_count": 26,
   "id": "fc846b19",
   "metadata": {},
   "outputs": [],
   "source": [
    "import numpy"
   ]
  },
  {
   "cell_type": "code",
   "execution_count": 27,
   "id": "d8fbdd86",
   "metadata": {},
   "outputs": [
    {
     "data": {
      "text/plain": [
       "array([[1., 0., 0., 0., 0.],\n",
       "       [0., 1., 0., 0., 0.],\n",
       "       [0., 0., 1., 0., 0.],\n",
       "       [0., 0., 0., 1., 0.],\n",
       "       [0., 0., 0., 0., 1.]])"
      ]
     },
     "execution_count": 27,
     "metadata": {},
     "output_type": "execute_result"
    }
   ],
   "source": [
    "numpy.eye(5)"
   ]
  },
  {
   "cell_type": "code",
   "execution_count": 29,
   "id": "e64e9eb0",
   "metadata": {},
   "outputs": [
    {
     "data": {
      "text/plain": [
       "tensor([[0, 0, 0],\n",
       "        [0, 0, 0]])"
      ]
     },
     "execution_count": 29,
     "metadata": {},
     "output_type": "execute_result"
    }
   ],
   "source": [
    "a=torch.empty((2,3),dtype=torch.int64)\n",
    "empty_like=torch.empty_like(a)\n",
    "empty_like"
   ]
  },
  {
   "cell_type": "code",
   "execution_count": 30,
   "id": "3a2d04d2",
   "metadata": {},
   "outputs": [],
   "source": [
    "device= 'cuda' if torch.cuda.is_available() else 'cpu'"
   ]
  },
  {
   "cell_type": "code",
   "execution_count": 35,
   "id": "6aa03c81",
   "metadata": {},
   "outputs": [
    {
     "name": "stdout",
     "output_type": "stream",
     "text": [
      "Elapsed Time: 0.0000\n"
     ]
    }
   ],
   "source": [
    "import time\n",
    " \n",
    "start_time=time.time()\n",
    "\n",
    "zeros=torch.zeros(1,1)\n",
    "end_time=time.time()\n",
    "elapsed_time=end_time-start_time\n",
    "\n",
    "print(f\"Elapsed Time: {elapsed_time:.4f}\")"
   ]
  },
  {
   "cell_type": "code",
   "execution_count": 36,
   "id": "7b8b8d9e",
   "metadata": {},
   "outputs": [],
   "source": [
    "#%%time - time it takes to execute a block"
   ]
  },
  {
   "cell_type": "code",
   "execution_count": 40,
   "id": "1cebfc2e",
   "metadata": {},
   "outputs": [
    {
     "name": "stdout",
     "output_type": "stream",
     "text": [
      "tensor([0, 1, 1, 1, 1, 1, 1, 0, 1, 0])\n"
     ]
    }
   ],
   "source": [
    "probabilities=torch.tensor([0.1,0.9])#THey have to add up to 1\n",
    "samples=torch.multinomial(probabilities, num_samples=10, replacement=True)\n",
    "print(samples) #Checking the probability of happening"
   ]
  },
  {
   "cell_type": "code",
   "execution_count": 49,
   "id": "99c8dbbd",
   "metadata": {},
   "outputs": [
    {
     "data": {
      "text/plain": [
       "tensor([1, 2, 3, 4, 5, 6])"
      ]
     },
     "execution_count": 49,
     "metadata": {},
     "output_type": "execute_result"
    }
   ],
   "source": [
    "tensor=torch.tensor([1,2,3,4])\n",
    "out=torch.cat((tensor,torch.tensor([5,6])),dim=0)\n",
    "out# Concatenates the tensors together on the dimension."
   ]
  },
  {
   "cell_type": "code",
   "execution_count": 51,
   "id": "c2ea4bc8",
   "metadata": {},
   "outputs": [
    {
     "data": {
      "text/plain": [
       "tensor([[1., 0., 0., 0., 0.],\n",
       "        [1., 1., 0., 0., 0.],\n",
       "        [1., 1., 1., 0., 0.],\n",
       "        [1., 1., 1., 1., 0.],\n",
       "        [1., 1., 1., 1., 1.]])"
      ]
     },
     "execution_count": 51,
     "metadata": {},
     "output_type": "execute_result"
    }
   ],
   "source": [
    "out=torch.tril(torch.ones(5,5))\n",
    "out#Creates a tree like structue. Triange Lower"
   ]
  },
  {
   "cell_type": "code",
   "execution_count": 55,
   "id": "454cb3cd",
   "metadata": {},
   "outputs": [
    {
     "data": {
      "text/plain": [
       "tensor([[1., 1., 1., 1., 1.],\n",
       "        [0., 1., 1., 1., 1.],\n",
       "        [0., 0., 1., 1., 1.],\n",
       "        [0., 0., 0., 1., 1.],\n",
       "        [0., 0., 0., 0., 1.]])"
      ]
     },
     "execution_count": 55,
     "metadata": {},
     "output_type": "execute_result"
    }
   ],
   "source": [
    "out=torch.triu(torch.ones(5,5))\n",
    "out"
   ]
  },
  {
   "cell_type": "code",
   "execution_count": 59,
   "id": "e9cf428b",
   "metadata": {},
   "outputs": [
    {
     "data": {
      "text/plain": [
       "tensor([[0., -inf, -inf, -inf, -inf],\n",
       "        [0., 0., -inf, -inf, -inf],\n",
       "        [0., 0., 0., -inf, -inf],\n",
       "        [0., 0., 0., 0., -inf],\n",
       "        [0., 0., 0., 0., 0.]])"
      ]
     },
     "execution_count": 59,
     "metadata": {},
     "output_type": "execute_result"
    }
   ],
   "source": [
    "out=torch.zeros(5,5).masked_fill(torch.tril(torch.ones(5,5))==0, float('-inf'))\n",
    "out"
   ]
  },
  {
   "cell_type": "code",
   "execution_count": 60,
   "id": "95211ffa",
   "metadata": {},
   "outputs": [
    {
     "data": {
      "text/plain": [
       "tensor([[1., 0., 0., 0., 0.],\n",
       "        [1., 1., 0., 0., 0.],\n",
       "        [1., 1., 1., 0., 0.],\n",
       "        [1., 1., 1., 1., 0.],\n",
       "        [1., 1., 1., 1., 1.]])"
      ]
     },
     "execution_count": 60,
     "metadata": {},
     "output_type": "execute_result"
    }
   ],
   "source": [
    "torch.exp(out)"
   ]
  },
  {
   "cell_type": "code",
   "execution_count": 62,
   "id": "45c99550",
   "metadata": {},
   "outputs": [
    {
     "data": {
      "text/plain": [
       "torch.Size([4, 3, 2])"
      ]
     },
     "execution_count": 62,
     "metadata": {},
     "output_type": "execute_result"
    }
   ],
   "source": [
    "input=torch.zeros(2,3,4)\n",
    "out=input.transpose(0,2) #Swap 0th with the 2nd dimension\n",
    "out.shape"
   ]
  },
  {
   "cell_type": "code",
   "execution_count": 63,
   "id": "1d2b3a6e",
   "metadata": {},
   "outputs": [],
   "source": [
    "tensor1=torch.tensor([1,2,3])\n",
    "tensor2= torch.tensor([4,5,6])\n",
    "tensor3= torch.tensor([7,8,9])\n",
    "\n",
    "#Stack the tensors along a new dimension\n",
    "stacked_tensor= torch.stack([tensor1,tensor2, tensor3])"
   ]
  },
  {
   "cell_type": "code",
   "execution_count": 65,
   "id": "657f183d",
   "metadata": {},
   "outputs": [
    {
     "data": {
      "text/plain": [
       "tensor([[1, 2, 3],\n",
       "        [4, 5, 6],\n",
       "        [7, 8, 9]])"
      ]
     },
     "execution_count": 65,
     "metadata": {},
     "output_type": "execute_result"
    }
   ],
   "source": [
    "stacked_tensor# We pass in the tensor that we want to stack together"
   ]
  },
  {
   "cell_type": "code",
   "execution_count": 67,
   "id": "4a20bebf",
   "metadata": {},
   "outputs": [
    {
     "name": "stdout",
     "output_type": "stream",
     "text": [
      "tensor([ -2.2413, -13.3878,  -3.8976], grad_fn=<SqueezeBackward4>)\n"
     ]
    }
   ],
   "source": [
    "import torch.nn as nn\n",
    "sample=torch.tensor([10.,10.,10.])\n",
    "linear=nn.Linear(3,3,bias=False) #sort of nn.sequential\n",
    "print(linear(sample))"
   ]
  },
  {
   "cell_type": "code",
   "execution_count": 68,
   "id": "80d9ea79",
   "metadata": {},
   "outputs": [
    {
     "name": "stdout",
     "output_type": "stream",
     "text": [
      "tensor([0.0900, 0.2447, 0.6652])\n"
     ]
    }
   ],
   "source": [
    "import torch.nn.functional as F\n",
    "\n",
    "tensor1=torch.tensor([1.0,2.0,3.0])\n",
    "\n",
    "softmax_output=F.softmax(tensor1,dim=0)\n",
    "print(softmax_output)"
   ]
  },
  {
   "cell_type": "code",
   "execution_count": 69,
   "id": "ee456c48",
   "metadata": {},
   "outputs": [],
   "source": [
    "#Embedding vector- numberical representation of each word/char "
   ]
  },
  {
   "cell_type": "code",
   "execution_count": 72,
   "id": "032cd07f",
   "metadata": {},
   "outputs": [
    {
     "name": "stdout",
     "output_type": "stream",
     "text": [
      "tensor([[-0.5030,  1.0033,  0.7856, -0.5810,  1.1106, -0.8790,  0.2070, -1.1565,\n",
      "          0.8896,  0.4293],\n",
      "        [-0.6214, -0.1807,  0.5866,  0.6909,  0.8042, -0.9167,  0.2913,  0.2205,\n",
      "          0.2911,  0.5674],\n",
      "        [ 0.2237, -0.6559, -0.3627,  1.4124, -0.0943,  0.7942, -0.2193,  0.2412,\n",
      "         -0.6669, -0.8614],\n",
      "        [ 0.3984,  2.3133,  2.1502, -0.0060,  0.0439, -0.1599, -0.4461, -1.0000,\n",
      "          1.4939, -0.6844],\n",
      "        [ 0.4831, -0.1318, -1.2008, -1.0453, -0.1585,  0.6951,  1.0479, -1.4007,\n",
      "         -0.4563, -1.0673]], grad_fn=<EmbeddingBackward0>)\n"
     ]
    }
   ],
   "source": [
    "vocab_size=1000\n",
    "embedding_dim=10\n",
    "\n",
    "embedding=nn.Embedding(vocab_size, embedding_dim)\n",
    "\n",
    "input_indices=torch.LongTensor([1,5,3,2,6])\n",
    "\n",
    "embedding_output=embedding(input_indices)\n",
    "\n",
    "print(embedding_output)"
   ]
  },
  {
   "cell_type": "code",
   "execution_count": 73,
   "id": "e43ab7c7",
   "metadata": {},
   "outputs": [
    {
     "name": "stdout",
     "output_type": "stream",
     "text": [
      "Matrix Multiplication tensor([[ 27,  30,  33],\n",
      "        [ 61,  68,  75],\n",
      "        [ 95, 106, 117]])\n"
     ]
    }
   ],
   "source": [
    "a=torch.tensor([[1,2],[3,4],[5,6]])\n",
    "b=torch.tensor([[7,8,9],[10,11,12]])\n",
    "print(\"Matrix Multiplication\" ,a@b) #shorthand method"
   ]
  },
  {
   "cell_type": "code",
   "execution_count": 74,
   "id": "0be70b82",
   "metadata": {},
   "outputs": [
    {
     "data": {
      "text/plain": [
       "tensor([[ 27,  30,  33],\n",
       "        [ 61,  68,  75],\n",
       "        [ 95, 106, 117]])"
      ]
     },
     "execution_count": 74,
     "metadata": {},
     "output_type": "execute_result"
    }
   ],
   "source": [
    "torch.matmul(a,b)"
   ]
  },
  {
   "cell_type": "code",
   "execution_count": 75,
   "id": "1ea98181",
   "metadata": {},
   "outputs": [],
   "source": [
    "#We cannot multiply integers and floating types"
   ]
  },
  {
   "cell_type": "code",
   "execution_count": 76,
   "id": "0cf90bc9",
   "metadata": {},
   "outputs": [],
   "source": [
    "##Logits"
   ]
  },
  {
   "cell_type": "code",
   "execution_count": 77,
   "id": "a8c5e2d2",
   "metadata": {},
   "outputs": [],
   "source": [
    "#Normalize- somethings contribution compared to the whole context.\n",
    "[2,4,6]==>[0.16,0.33,0.5]\n"
   ]
  },
  {
   "cell_type": "code",
   "execution_count": 81,
   "id": "bd86a2ea",
   "metadata": {},
   "outputs": [
    {
     "name": "stdout",
     "output_type": "stream",
     "text": [
      "tensor([[[0.5827, 0.8429, 0.0949, 0.7545, 0.6556],\n",
      "         [0.1032, 0.7959, 0.1897, 0.3449, 0.2107],\n",
      "         [0.3455, 0.7518, 0.2498, 0.9202, 0.0135]],\n",
      "\n",
      "        [[0.6278, 0.0207, 0.2346, 0.1099, 0.7150],\n",
      "         [0.2666, 0.8402, 0.9125, 0.1333, 0.8288],\n",
      "         [0.4813, 0.1841, 0.0934, 0.1930, 0.0627]]])\n",
      "2 3 5\n",
      "tensor([[[0.5827, 0.8429, 0.0949, 0.7545, 0.6556],\n",
      "         [0.1032, 0.7959, 0.1897, 0.3449, 0.2107],\n",
      "         [0.3455, 0.7518, 0.2498, 0.9202, 0.0135]],\n",
      "\n",
      "        [[0.6278, 0.0207, 0.2346, 0.1099, 0.7150],\n",
      "         [0.2666, 0.8402, 0.9125, 0.1333, 0.8288],\n",
      "         [0.4813, 0.1841, 0.0934, 0.1930, 0.0627]]])\n",
      "torch.Size([2, 3, 5])\n"
     ]
    }
   ],
   "source": [
    "##View\n",
    "a=torch.rand(2,3,5)\n",
    "print(a)\n",
    "x,y,z=a.shape\n",
    "print(x,y,z)\n",
    "a=a.view(x,y,z) #make that tensor again with those dimensions\n",
    "print(a)\n",
    "print(a.shape)"
   ]
  },
  {
   "cell_type": "code",
   "execution_count": 82,
   "id": "2f1a44a4",
   "metadata": {},
   "outputs": [
    {
     "name": "stdout",
     "output_type": "stream",
     "text": [
      "ReLU(inplace=True)\n"
     ]
    }
   ],
   "source": [
    "x = torch.tensor([-0.05],dtype=torch.float32)\n",
    "y=nn.ReLU(x)\n",
    "print(y)"
   ]
  },
  {
   "cell_type": "code",
   "execution_count": null,
   "id": "957d9eaf",
   "metadata": {},
   "outputs": [],
   "source": []
  }
 ],
 "metadata": {
  "kernelspec": {
   "display_name": "Python 3 (ipykernel)",
   "language": "python",
   "name": "python3"
  },
  "language_info": {
   "codemirror_mode": {
    "name": "ipython",
    "version": 3
   },
   "file_extension": ".py",
   "mimetype": "text/x-python",
   "name": "python",
   "nbconvert_exporter": "python",
   "pygments_lexer": "ipython3",
   "version": "3.11.4"
  }
 },
 "nbformat": 4,
 "nbformat_minor": 5
}

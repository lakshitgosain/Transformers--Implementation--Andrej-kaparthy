{
  "nbformat": 4,
  "nbformat_minor": 0,
  "metadata": {
    "colab": {
      "provenance": [],
      "authorship_tag": "ABX9TyO1JoJGPGJ7Tj7YngvFRWuq",
      "include_colab_link": true
    },
    "kernelspec": {
      "name": "python3",
      "display_name": "Python 3"
    },
    "language_info": {
      "name": "python"
    }
  },
  "cells": [
    {
      "cell_type": "markdown",
      "metadata": {
        "id": "view-in-github",
        "colab_type": "text"
      },
      "source": [
        "<a href=\"https://colab.research.google.com/github/lakshitgosain/Transformers--Implementation--Andrej-kaparthy/blob/main/Transformers_Implementation.ipynb\" target=\"_parent\"><img src=\"https://colab.research.google.com/assets/colab-badge.svg\" alt=\"Open In Colab\"/></a>"
      ]
    },
    {
      "cell_type": "markdown",
      "source": [
        "GPT - Generative Pretrained Transformers\n",
        "- It is a base from Attention is all you need\n",
        "- In this tutorial, we are not going to recreate what's there for ChatGPT as it's a very high level, production grade system that involves training on whole of the internet's data(most of not whole) and involves rigorous pretraining methods"
      ],
      "metadata": {
        "id": "K1XCYqzfwkMm"
      }
    },
    {
      "cell_type": "code",
      "source": [
        "#We will use tiny shakespere"
      ],
      "metadata": {
        "id": "x9rH-gWbxHKS"
      },
      "execution_count": 1,
      "outputs": []
    },
    {
      "cell_type": "markdown",
      "source": [
        "We are going to create a character level transformer here and it's going to predict the next character.\n",
        "- In chatgpt, the output is based of token level prediction. It predicts next token(word) and not the next character"
      ],
      "metadata": {
        "id": "3lY2N6Qz_3dk"
      }
    },
    {
      "cell_type": "markdown",
      "source": [
        "https://github.com/karpathy/nanoGPT - Repo for training transformers on any given text .\n",
        "We are defining/creating the nonogpt from scratch"
      ],
      "metadata": {
        "id": "kbahj9wkAFJH"
      }
    },
    {
      "cell_type": "code",
      "source": [],
      "metadata": {
        "id": "oSzmKxCKCAmN"
      },
      "execution_count": null,
      "outputs": []
    }
  ]
}